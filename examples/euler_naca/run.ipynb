{
 "metadata": {
  "language_info": {
   "codemirror_mode": {
    "name": "ipython",
    "version": 3
   },
   "file_extension": ".py",
   "mimetype": "text/x-python",
   "name": "python",
   "nbconvert_exporter": "python",
   "pygments_lexer": "ipython3",
   "version": "3.9.2-final"
  },
  "orig_nbformat": 2,
  "kernelspec": {
   "name": "python39264bitd9f904e3e8f64fd1bf3f51c5f3ca01b6",
   "display_name": "Python 3.9.2 64-bit"
  }
 },
 "nbformat": 4,
 "nbformat_minor": 2,
 "cells": [
  {
   "cell_type": "code",
   "execution_count": 1,
   "metadata": {},
   "outputs": [],
   "source": [
    "import uqcreator as uqc"
   ]
  },
  {
   "cell_type": "code",
   "execution_count": 2,
   "metadata": {},
   "outputs": [],
   "source": [
    "settings = uqc.Settings()\n",
    "\n",
    "settings.mesh['file'] = 'naca_profile.su2'\n",
    "settings.mesh['bc'] = [[\"farfield\",\"dirichlet\"], [\"airfoil\", \"noslip\"]]\n",
    "\n",
    "settings.problem['uncertainties'] = [[\"Legendre\"],[0.5]]\n",
    "settings.problem['cfl'] = 0.9\n",
    "settings.problem['tEnd'] = 1.0\n",
    "\n",
    "settings.moment_system['moments'] = [[\"totalDegree\"],[8]]\n",
    "settings.moment_system['quadPoints'] = [[\"tensorizedCCGrid\"],[4]]"
   ]
  },
  {
   "cell_type": "code",
   "execution_count": 3,
   "metadata": {},
   "outputs": [
    {
     "output_type": "error",
     "ename": "TypeError",
     "evalue": "Can't instantiate abstract class Euler with abstract method ComputeDt",
     "traceback": [
      "\u001b[0;31m---------------------------------------------------------------------------\u001b[0m",
      "\u001b[0;31mTypeError\u001b[0m                                 Traceback (most recent call last)",
      "\u001b[0;32m<ipython-input-3-0abd29206903>\u001b[0m in \u001b[0;36m<module>\u001b[0;34m\u001b[0m\n\u001b[0;32m----> 1\u001b[0;31m \u001b[0mproblem\u001b[0m \u001b[0;34m=\u001b[0m \u001b[0muqc\u001b[0m\u001b[0;34m.\u001b[0m\u001b[0mEuler\u001b[0m\u001b[0;34m(\u001b[0m\u001b[0;34m)\u001b[0m\u001b[0;34m\u001b[0m\u001b[0;34m\u001b[0m\u001b[0m\n\u001b[0m\u001b[1;32m      2\u001b[0m \u001b[0mclosure\u001b[0m \u001b[0;34m=\u001b[0m \u001b[0muqc\u001b[0m\u001b[0;34m.\u001b[0m\u001b[0mStochasticGalerkin\u001b[0m\u001b[0;34m(\u001b[0m\u001b[0;34m)\u001b[0m\u001b[0;34m\u001b[0m\u001b[0;34m\u001b[0m\u001b[0m\n",
      "\u001b[0;31mTypeError\u001b[0m: Can't instantiate abstract class Euler with abstract method ComputeDt"
     ]
    }
   ],
   "source": [
    "problem = uqc.Euler()\n",
    "closure = uqc.StochasticGalerkin()"
   ]
  },
  {
   "cell_type": "code",
   "execution_count": null,
   "metadata": {},
   "outputs": [],
   "source": []
  }
 ]
}