{
 "metadata": {
  "language_info": {
   "codemirror_mode": {
    "name": "ipython",
    "version": 3
   },
   "file_extension": ".py",
   "mimetype": "text/x-python",
   "name": "python",
   "nbconvert_exporter": "python",
   "pygments_lexer": "ipython3",
   "version": "3.9.2-final"
  },
  "orig_nbformat": 2,
  "kernelspec": {
   "name": "python39264bitd9f904e3e8f64fd1bf3f51c5f3ca01b6",
   "display_name": "Python 3.9.2 64-bit"
  }
 },
 "nbformat": 4,
 "nbformat_minor": 2,
 "cells": [
  {
   "cell_type": "code",
   "execution_count": 1,
   "metadata": {},
   "outputs": [],
   "source": [
    "import uqcreator as uqc"
   ]
  },
  {
   "cell_type": "code",
   "execution_count": 2,
   "metadata": {},
   "outputs": [],
   "source": [
    "settings = uqc.Settings()\n",
    "\n",
    "settings.mesh['file'] = 'naca_profile.su2'\n",
    "settings.mesh['bc'] = [[\"farfield\",\"dirichlet\"], [\"airfoil\", \"noslip\"]]\n",
    "\n",
    "settings.problem['uncertainties'] = [[\"Legendre\"],[0.5]]\n",
    "settings.problem['cfl'] = 0.9\n",
    "settings.problem['tEnd'] = 1.0\n",
    "\n",
    "settings.moment_system['moments'] = [[\"totalDegree\"],[8]]\n",
    "settings.moment_system['quadPoints'] = [[\"tensorizedCCGrid\"],[4]]"
   ]
  },
  {
   "cell_type": "code",
   "execution_count": null,
   "metadata": {},
   "outputs": [],
   "source": []
  },
  {
   "cell_type": "code",
   "execution_count": 10,
   "metadata": {},
   "outputs": [],
   "source": [
    "problem = uqc.Euler()\n",
    "def IC(self, x, xi):\n",
    "    gamma       = 1.4\n",
    "    R           = 287.87\n",
    "    T           = 273.15\n",
    "    Ma          = 0.8\n",
    "    AoA         = 1.25\n",
    "    p           = 101325.0\n",
    "    rhoFarfield = p / ( R * T )\n",
    "\n",
    "    sigma = np.ones(2)\n",
    "\n",
    "    if( len(xi) > 1 ):\n",
    "        Ma = Ma - sigma[1]\n",
    "        Ma = Ma + xi[1] * sigma[1]\n",
    "\n",
    "    a = np.sqrt( gamma * R * T )\n",
    "    uMax  = Ma * a\n",
    "    angle = ( AoA + sigma[0] * xi[0] ) * ( 2.0 * np.pi ) / 360.0\n",
    "    uF    = uMax * np.cos( angle )\n",
    "    vF    = uMax * np.sin( angle )\n",
    "\n",
    "    kineticEnergy = 0.5 * rhoFarfield * ( uF**2 +  vF**2 )\n",
    "    innerEnergy   = ( p / ( rhoFarfield * ( gamma - 1 ) ) ) * rhoFarfield\n",
    "    \n",
    "    y = np.zeros(self.nStates)\n",
    "    y[0] = rhoFarfield\n",
    "    y[1] = rhoFarfield * uF\n",
    "    y[2] = rhoFarfield * vF    \n",
    "    y[3] = kineticEnergy + innerEnergy\n",
    "    return y\n",
    "    \n",
    "problem.IC = IC"
   ]
  },
  {
   "cell_type": "code",
   "execution_count": 11,
   "metadata": {},
   "outputs": [],
   "source": [
    "closure = uqc.StochasticGalerkin(problem.nStates)"
   ]
  },
  {
   "cell_type": "code",
   "execution_count": 8,
   "metadata": {},
   "outputs": [
    {
     "output_type": "error",
     "ename": "SyntaxError",
     "evalue": "invalid syntax (<string>, line 1)",
     "traceback": [
      "Traceback \u001b[0;36m(most recent call last)\u001b[0m:\n",
      "  File \u001b[1;32m\"/home/jannick/.local/lib/python3.9/site-packages/IPython/core/interactiveshell.py\"\u001b[0m, line \u001b[1;32m3427\u001b[0m, in \u001b[1;35mrun_code\u001b[0m\n    exec(code_obj, self.user_global_ns, self.user_ns)\n",
      "  File \u001b[1;32m\"<ipython-input-8-580559b3254e>\"\u001b[0m, line \u001b[1;32m2\u001b[0m, in \u001b[1;35m<module>\u001b[0m\n    solver.run()\n",
      "  File \u001b[1;32m\"/home/jannick/.local/lib/python3.9/site-packages/uqcreator/solver.py\"\u001b[0m, line \u001b[1;32m14\u001b[0m, in \u001b[1;35mrun\u001b[0m\n    G = cfunc(\"array(double, 2d, C)(array(double, 2d, C), array(double, 2d, C), array(double, 1d, C), array(double, 1d, C), uintc)\")(self.problem.G)\n",
      "  File \u001b[1;32m\"/home/jannick/.local/lib/python3.9/site-packages/numba/core/decorators.py\"\u001b[0m, line \u001b[1;32m274\u001b[0m, in \u001b[1;35mcfunc\u001b[0m\n    sig = sigutils.normalize_signature(sig)\n",
      "  File \u001b[1;32m\"/home/jannick/.local/lib/python3.9/site-packages/numba/core/sigutils.py\"\u001b[0m, line \u001b[1;32m29\u001b[0m, in \u001b[1;35mnormalize_signature\u001b[0m\n    parsed = _parse_signature_string(sig)\n",
      "\u001b[0;36m  File \u001b[0;32m\"/home/jannick/.local/lib/python3.9/site-packages/numba/core/sigutils.py\"\u001b[0;36m, line \u001b[0;32m19\u001b[0;36m, in \u001b[0;35m_parse_signature_string\u001b[0;36m\u001b[0m\n\u001b[0;31m    return eval(signature_str, {}, types.__dict__)\u001b[0m\n",
      "\u001b[0;36m  File \u001b[0;32m\"<string>\"\u001b[0;36m, line \u001b[0;32m1\u001b[0m\n\u001b[0;31m    array(double, 2d, C)(array(double, 2d, C), array(double, 2d, C), array(double, 1d, C), array(double, 1d, C), uintc)\u001b[0m\n\u001b[0m                   ^\u001b[0m\n\u001b[0;31mSyntaxError\u001b[0m\u001b[0;31m:\u001b[0m invalid syntax\n"
     ]
    }
   ],
   "source": [
    "solver = uqc.Solver(settings, problem, closure)\n",
    "solver.run()"
   ]
  }
 ]
}